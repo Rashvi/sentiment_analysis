{
  "nbformat": 4,
  "nbformat_minor": 0,
  "metadata": {
    "colab": {
      "name": "sentiment_Analysis.ipynb",
      "provenance": [],
      "mount_file_id": "1kPbvKh7pOAJufO0XXmVeJ8O6HQLVGt_w",
      "authorship_tag": "ABX9TyNMhxu4fJGyiemi4kBZb+oh",
      "include_colab_link": true
    },
    "kernelspec": {
      "name": "python3",
      "display_name": "Python 3"
    }
  },
  "cells": [
    {
      "cell_type": "markdown",
      "metadata": {
        "id": "view-in-github",
        "colab_type": "text"
      },
      "source": [
        "<a href=\"https://colab.research.google.com/github/Rashvi/sentiment_analysis/blob/master/sentiment_Analysis.ipynb\" target=\"_parent\"><img src=\"https://colab.research.google.com/assets/colab-badge.svg\" alt=\"Open In Colab\"/></a>"
      ]
    },
    {
      "cell_type": "markdown",
      "metadata": {
        "id": "3VLBV_JSNZoF",
        "colab_type": "text"
      },
      "source": [
        "#Sentiment Analysis without using NLP"
      ]
    },
    {
      "cell_type": "code",
      "metadata": {
        "id": "LBWyq3CJ8pZm",
        "colab_type": "code",
        "colab": {}
      },
      "source": [
        "import string\n",
        "import matplotlib.pyplot as plt\n",
        "from collections import Counter\n"
      ],
      "execution_count": 34,
      "outputs": []
    },
    {
      "cell_type": "code",
      "metadata": {
        "id": "bg9KGvQz_cYN",
        "colab_type": "code",
        "colab": {
          "base_uri": "https://localhost:8080/",
          "height": 404
        },
        "outputId": "36afa07f-4e0c-4209-8a8c-98069695a159"
      },
      "source": [
        "text = open(\"textFile.txt\",encoding='utf-8').read()\n",
        "LowerCase = text.lower()\n",
        "remove_punctuation = LowerCase.translate(str.maketrans('','',string.punctuation))\n",
        "print(remove_punctuation)\n",
        "\n",
        "wordsInText = remove_punctuation.split() \n",
        "print(wordsInText)"
      ],
      "execution_count": 35,
      "outputs": [
        {
          "output_type": "stream",
          "text": [
            "so we’ve had a big day in the stock market  things are coming back and they’re coming back very rapidly — a lot sooner than people thought  people are feeling good about our country  people are feeling good about therapeutics and possible vaccines  but we’re going to go over quite a bit and maybe at the end we’ll take some questions if we have time if it’s not too hot\n",
            "\n",
            "today i signed legislation and an executive order to hold china accountable for its oppressive actions against the people of hong kong  the hong kong autonomy act which i signed this afternoon passed unanimously through congress  this law gives my administration powerful new tools to hold responsible the individuals and the entities involved in extinguishing hong kong’s freedom  we’ve all watched what happened  not a good situation  their freedom has been taken away  their rights have been taken away  and with it goes hong kong in my opinion because it will no longer be able to compete with free markets\n",
            "\n",
            "a lot of people will be leaving hong kong i suspect  and we’re going to do a lot more business because of it because we just lost one competitor  that’s the way it is  we lost a very very serious competitor  a competitor that we incentivized to take a lot of business and do well  and we gave them a lot of business by doing what we did  we gave them things that nobody else had the right to do and that gave them a big edge over other markets  and because of that edge they’ve done really historic business tremendous business — far bigger than anybody would have thought years ago when we did this gift  it was really a gift to freedom\n",
            "\n",
            "today i also signed an executive order ending us preferential treatment for hong kong  hong kong will now be treated the same as mainland china no special privileges no special economic treatment and no export of sensitive technologies\n",
            "\n",
            "in addition to that as you know we’re placing massive tariffs and have placed very large tariffs on china — first time that’s ever happened to china  billions of dollars have been paid to the united states of which i’ve given quite a bit to the farmers and ranchers for our country because they were targeted  and that’s been going on for three years  it’s the first time anybody’s ever done anything like that\n",
            "\n",
            "and prior to the plague pouring in from china they were having the worst year you know in 67 years  and i don’t want them to have a bad year i want them to have a good year but they were taking advantage of the united states for many many years and that’s stopping\n",
            "\n",
            "but then they — then the virus came in and the world is a different place  but we’re now getting back and one of the reasons the market is doing so — it’s almost at the point that it was at prior to the plague  almost  we’re getting very close  it’s a great thing  it’s an amazing thing what our people have done and what they’ve endured\n",
            "\n",
            "no administration has been tougher on china than this administration  we imposed historic tariffs  we stood up to china’s intellectual property theft at a level that nobody has ever come close  we confronted untrustworthy chinese technology and telecom providers  we convinced many countries — many countries — and i did this myself for the most part — not to use huawei because we think it’s an unsafe security risk  it’s a big security risk  i talked many countries out of using it  if they want to do business with us they can’t use it\n",
            "\n",
            "just today i believe that uk announced that they’re not going to be using it  and that was up in the air for a long time but they’ve decided  and you look at italy you look at many other countries\n",
            "\n",
            "we withdrew from the chinesedominated who and we fully rebuilt the united states military  the who — world health organization — we were paying close to 500 million a year  china was paying 39 million a year  and china had too much say  they worked it very hard which is a bad thing done by our past administrations  but we were tough and we were saying — i was asking — i said “why are we paying so much more than china”  china has 14 billion people we have 325 — probably 325 million approximately  nobody can give the exact count  we’re trying to get an exact count  but you have over the years many illegals who have come into the country so it depends on how you want to count it  but you could say 325 to 350 million people as opposed to 14 billion people\n",
            "['so', 'we’ve', 'had', 'a', 'big', 'day', 'in', 'the', 'stock', 'market', 'things', 'are', 'coming', 'back', 'and', 'they’re', 'coming', 'back', 'very', 'rapidly', '—', 'a', 'lot', 'sooner', 'than', 'people', 'thought', 'people', 'are', 'feeling', 'good', 'about', 'our', 'country', 'people', 'are', 'feeling', 'good', 'about', 'therapeutics', 'and', 'possible', 'vaccines', 'but', 'we’re', 'going', 'to', 'go', 'over', 'quite', 'a', 'bit', 'and', 'maybe', 'at', 'the', 'end', 'we’ll', 'take', 'some', 'questions', 'if', 'we', 'have', 'time', 'if', 'it’s', 'not', 'too', 'hot', 'today', 'i', 'signed', 'legislation', 'and', 'an', 'executive', 'order', 'to', 'hold', 'china', 'accountable', 'for', 'its', 'oppressive', 'actions', 'against', 'the', 'people', 'of', 'hong', 'kong', 'the', 'hong', 'kong', 'autonomy', 'act', 'which', 'i', 'signed', 'this', 'afternoon', 'passed', 'unanimously', 'through', 'congress', 'this', 'law', 'gives', 'my', 'administration', 'powerful', 'new', 'tools', 'to', 'hold', 'responsible', 'the', 'individuals', 'and', 'the', 'entities', 'involved', 'in', 'extinguishing', 'hong', 'kong’s', 'freedom', 'we’ve', 'all', 'watched', 'what', 'happened', 'not', 'a', 'good', 'situation', 'their', 'freedom', 'has', 'been', 'taken', 'away', 'their', 'rights', 'have', 'been', 'taken', 'away', 'and', 'with', 'it', 'goes', 'hong', 'kong', 'in', 'my', 'opinion', 'because', 'it', 'will', 'no', 'longer', 'be', 'able', 'to', 'compete', 'with', 'free', 'markets', 'a', 'lot', 'of', 'people', 'will', 'be', 'leaving', 'hong', 'kong', 'i', 'suspect', 'and', 'we’re', 'going', 'to', 'do', 'a', 'lot', 'more', 'business', 'because', 'of', 'it', 'because', 'we', 'just', 'lost', 'one', 'competitor', 'that’s', 'the', 'way', 'it', 'is', 'we', 'lost', 'a', 'very', 'very', 'serious', 'competitor', 'a', 'competitor', 'that', 'we', 'incentivized', 'to', 'take', 'a', 'lot', 'of', 'business', 'and', 'do', 'well', 'and', 'we', 'gave', 'them', 'a', 'lot', 'of', 'business', 'by', 'doing', 'what', 'we', 'did', 'we', 'gave', 'them', 'things', 'that', 'nobody', 'else', 'had', 'the', 'right', 'to', 'do', 'and', 'that', 'gave', 'them', 'a', 'big', 'edge', 'over', 'other', 'markets', 'and', 'because', 'of', 'that', 'edge', 'they’ve', 'done', 'really', 'historic', 'business', 'tremendous', 'business', '—', 'far', 'bigger', 'than', 'anybody', 'would', 'have', 'thought', 'years', 'ago', 'when', 'we', 'did', 'this', 'gift', 'it', 'was', 'really', 'a', 'gift', 'to', 'freedom', 'today', 'i', 'also', 'signed', 'an', 'executive', 'order', 'ending', 'us', 'preferential', 'treatment', 'for', 'hong', 'kong', 'hong', 'kong', 'will', 'now', 'be', 'treated', 'the', 'same', 'as', 'mainland', 'china', 'no', 'special', 'privileges', 'no', 'special', 'economic', 'treatment', 'and', 'no', 'export', 'of', 'sensitive', 'technologies', 'in', 'addition', 'to', 'that', 'as', 'you', 'know', 'we’re', 'placing', 'massive', 'tariffs', 'and', 'have', 'placed', 'very', 'large', 'tariffs', 'on', 'china', '—', 'first', 'time', 'that’s', 'ever', 'happened', 'to', 'china', 'billions', 'of', 'dollars', 'have', 'been', 'paid', 'to', 'the', 'united', 'states', 'of', 'which', 'i’ve', 'given', 'quite', 'a', 'bit', 'to', 'the', 'farmers', 'and', 'ranchers', 'for', 'our', 'country', 'because', 'they', 'were', 'targeted', 'and', 'that’s', 'been', 'going', 'on', 'for', 'three', 'years', 'it’s', 'the', 'first', 'time', 'anybody’s', 'ever', 'done', 'anything', 'like', 'that', 'and', 'prior', 'to', 'the', 'plague', 'pouring', 'in', 'from', 'china', 'they', 'were', 'having', 'the', 'worst', 'year', 'you', 'know', 'in', '67', 'years', 'and', 'i', 'don’t', 'want', 'them', 'to', 'have', 'a', 'bad', 'year', 'i', 'want', 'them', 'to', 'have', 'a', 'good', 'year', 'but', 'they', 'were', 'taking', 'advantage', 'of', 'the', 'united', 'states', 'for', 'many', 'many', 'years', 'and', 'that’s', 'stopping', 'but', 'then', 'they', '—', 'then', 'the', 'virus', 'came', 'in', 'and', 'the', 'world', 'is', 'a', 'different', 'place', 'but', 'we’re', 'now', 'getting', 'back', 'and', 'one', 'of', 'the', 'reasons', 'the', 'market', 'is', 'doing', 'so', '—', 'it’s', 'almost', 'at', 'the', 'point', 'that', 'it', 'was', 'at', 'prior', 'to', 'the', 'plague', 'almost', 'we’re', 'getting', 'very', 'close', 'it’s', 'a', 'great', 'thing', 'it’s', 'an', 'amazing', 'thing', 'what', 'our', 'people', 'have', 'done', 'and', 'what', 'they’ve', 'endured', 'no', 'administration', 'has', 'been', 'tougher', 'on', 'china', 'than', 'this', 'administration', 'we', 'imposed', 'historic', 'tariffs', 'we', 'stood', 'up', 'to', 'china’s', 'intellectual', 'property', 'theft', 'at', 'a', 'level', 'that', 'nobody', 'has', 'ever', 'come', 'close', 'we', 'confronted', 'untrustworthy', 'chinese', 'technology', 'and', 'telecom', 'providers', 'we', 'convinced', 'many', 'countries', '—', 'many', 'countries', '—', 'and', 'i', 'did', 'this', 'myself', 'for', 'the', 'most', 'part', '—', 'not', 'to', 'use', 'huawei', 'because', 'we', 'think', 'it’s', 'an', 'unsafe', 'security', 'risk', 'it’s', 'a', 'big', 'security', 'risk', 'i', 'talked', 'many', 'countries', 'out', 'of', 'using', 'it', 'if', 'they', 'want', 'to', 'do', 'business', 'with', 'us', 'they', 'can’t', 'use', 'it', 'just', 'today', 'i', 'believe', 'that', 'uk', 'announced', 'that', 'they’re', 'not', 'going', 'to', 'be', 'using', 'it', 'and', 'that', 'was', 'up', 'in', 'the', 'air', 'for', 'a', 'long', 'time', 'but', 'they’ve', 'decided', 'and', 'you', 'look', 'at', 'italy', 'you', 'look', 'at', 'many', 'other', 'countries', 'we', 'withdrew', 'from', 'the', 'chinesedominated', 'who', 'and', 'we', 'fully', 'rebuilt', 'the', 'united', 'states', 'military', 'the', 'who', '—', 'world', 'health', 'organization', '—', 'we', 'were', 'paying', 'close', 'to', '500', 'million', 'a', 'year', 'china', 'was', 'paying', '39', 'million', 'a', 'year', 'and', 'china', 'had', 'too', 'much', 'say', 'they', 'worked', 'it', 'very', 'hard', 'which', 'is', 'a', 'bad', 'thing', 'done', 'by', 'our', 'past', 'administrations', 'but', 'we', 'were', 'tough', 'and', 'we', 'were', 'saying', '—', 'i', 'was', 'asking', '—', 'i', 'said', '“why', 'are', 'we', 'paying', 'so', 'much', 'more', 'than', 'china”', 'china', 'has', '14', 'billion', 'people', 'we', 'have', '325', '—', 'probably', '325', 'million', 'approximately', 'nobody', 'can', 'give', 'the', 'exact', 'count', 'we’re', 'trying', 'to', 'get', 'an', 'exact', 'count', 'but', 'you', 'have', 'over', 'the', 'years', 'many', 'illegals', 'who', 'have', 'come', 'into', 'the', 'country', 'so', 'it', 'depends', 'on', 'how', 'you', 'want', 'to', 'count', 'it', 'but', 'you', 'could', 'say', '325', 'to', '350', 'million', 'people', 'as', 'opposed', 'to', '14', 'billion', 'people']\n"
          ],
          "name": "stdout"
        }
      ]
    },
    {
      "cell_type": "code",
      "metadata": {
        "id": "jF5PmYxzDQKz",
        "colab_type": "code",
        "colab": {
          "base_uri": "https://localhost:8080/",
          "height": 55
        },
        "outputId": "bb23e1f1-8e0b-4508-f52c-fc51a2e0a683"
      },
      "source": [
        "#words that have not much importance\n",
        "\n",
        "stop_words = [\"i\", \"me\", \"my\", \"myself\", \"we\", \"our\", \"ours\", \"ourselves\", \"you\", \"your\", \"yours\", \"yourself\",\n",
        "              \"yourselves\", \"he\", \"him\", \"his\", \"himself\", \"she\", \"her\", \"hers\", \"herself\", \"it\", \"its\", \"itself\",\n",
        "              \"they\", \"them\", \"their\", \"theirs\", \"themselves\", \"what\", \"which\", \"who\", \"whom\", \"this\", \"that\", \"these\",\n",
        "              \"those\", \"am\", \"is\", \"are\", \"was\", \"were\", \"be\", \"been\", \"being\", \"have\", \"has\", \"had\", \"having\", \"do\",\n",
        "              \"does\", \"did\", \"doing\", \"a\", \"an\", \"the\", \"and\", \"but\", \"if\", \"or\", \"because\", \"as\", \"until\", \"while\",\n",
        "              \"of\", \"at\", \"by\", \"for\", \"with\", \"about\", \"against\", \"between\", \"into\", \"through\", \"during\", \"before\",\n",
        "              \"after\", \"above\", \"below\", \"to\", \"from\", \"up\", \"down\", \"in\", \"out\", \"on\", \"off\", \"over\", \"under\", \"again\",\n",
        "              \"further\", \"then\", \"once\", \"here\", \"there\", \"when\", \"where\", \"why\", \"how\", \"all\", \"any\", \"both\", \"each\",\n",
        "              \"few\", \"more\", \"most\", \"other\", \"some\", \"such\", \"no\", \"nor\", \"not\", \"only\", \"own\", \"same\", \"so\", \"than\",\n",
        "              \"too\", \"very\", \"s\", \"t\", \"can\", \"will\", \"just\", \"don\", \"should\", \"now\"]\n",
        "original_List = []\n",
        "for w in wordsInText:\n",
        "  if(w not in stop_words):\n",
        "    original_List.append(w)\n",
        "\n",
        "print(original_List)    \n",
        "\n"
      ],
      "execution_count": 36,
      "outputs": [
        {
          "output_type": "stream",
          "text": [
            "['we’ve', 'big', 'day', 'stock', 'market', 'things', 'coming', 'back', 'they’re', 'coming', 'back', 'rapidly', '—', 'lot', 'sooner', 'people', 'thought', 'people', 'feeling', 'good', 'country', 'people', 'feeling', 'good', 'therapeutics', 'possible', 'vaccines', 'we’re', 'going', 'go', 'quite', 'bit', 'maybe', 'end', 'we’ll', 'take', 'questions', 'time', 'it’s', 'hot', 'today', 'signed', 'legislation', 'executive', 'order', 'hold', 'china', 'accountable', 'oppressive', 'actions', 'people', 'hong', 'kong', 'hong', 'kong', 'autonomy', 'act', 'signed', 'afternoon', 'passed', 'unanimously', 'congress', 'law', 'gives', 'administration', 'powerful', 'new', 'tools', 'hold', 'responsible', 'individuals', 'entities', 'involved', 'extinguishing', 'hong', 'kong’s', 'freedom', 'we’ve', 'watched', 'happened', 'good', 'situation', 'freedom', 'taken', 'away', 'rights', 'taken', 'away', 'goes', 'hong', 'kong', 'opinion', 'longer', 'able', 'compete', 'free', 'markets', 'lot', 'people', 'leaving', 'hong', 'kong', 'suspect', 'we’re', 'going', 'lot', 'business', 'lost', 'one', 'competitor', 'that’s', 'way', 'lost', 'serious', 'competitor', 'competitor', 'incentivized', 'take', 'lot', 'business', 'well', 'gave', 'lot', 'business', 'gave', 'things', 'nobody', 'else', 'right', 'gave', 'big', 'edge', 'markets', 'edge', 'they’ve', 'done', 'really', 'historic', 'business', 'tremendous', 'business', '—', 'far', 'bigger', 'anybody', 'would', 'thought', 'years', 'ago', 'gift', 'really', 'gift', 'freedom', 'today', 'also', 'signed', 'executive', 'order', 'ending', 'us', 'preferential', 'treatment', 'hong', 'kong', 'hong', 'kong', 'treated', 'mainland', 'china', 'special', 'privileges', 'special', 'economic', 'treatment', 'export', 'sensitive', 'technologies', 'addition', 'know', 'we’re', 'placing', 'massive', 'tariffs', 'placed', 'large', 'tariffs', 'china', '—', 'first', 'time', 'that’s', 'ever', 'happened', 'china', 'billions', 'dollars', 'paid', 'united', 'states', 'i’ve', 'given', 'quite', 'bit', 'farmers', 'ranchers', 'country', 'targeted', 'that’s', 'going', 'three', 'years', 'it’s', 'first', 'time', 'anybody’s', 'ever', 'done', 'anything', 'like', 'prior', 'plague', 'pouring', 'china', 'worst', 'year', 'know', '67', 'years', 'don’t', 'want', 'bad', 'year', 'want', 'good', 'year', 'taking', 'advantage', 'united', 'states', 'many', 'many', 'years', 'that’s', 'stopping', '—', 'virus', 'came', 'world', 'different', 'place', 'we’re', 'getting', 'back', 'one', 'reasons', 'market', '—', 'it’s', 'almost', 'point', 'prior', 'plague', 'almost', 'we’re', 'getting', 'close', 'it’s', 'great', 'thing', 'it’s', 'amazing', 'thing', 'people', 'done', 'they’ve', 'endured', 'administration', 'tougher', 'china', 'administration', 'imposed', 'historic', 'tariffs', 'stood', 'china’s', 'intellectual', 'property', 'theft', 'level', 'nobody', 'ever', 'come', 'close', 'confronted', 'untrustworthy', 'chinese', 'technology', 'telecom', 'providers', 'convinced', 'many', 'countries', '—', 'many', 'countries', '—', 'part', '—', 'use', 'huawei', 'think', 'it’s', 'unsafe', 'security', 'risk', 'it’s', 'big', 'security', 'risk', 'talked', 'many', 'countries', 'using', 'want', 'business', 'us', 'can’t', 'use', 'today', 'believe', 'uk', 'announced', 'they’re', 'going', 'using', 'air', 'long', 'time', 'they’ve', 'decided', 'look', 'italy', 'look', 'many', 'countries', 'withdrew', 'chinesedominated', 'fully', 'rebuilt', 'united', 'states', 'military', '—', 'world', 'health', 'organization', '—', 'paying', 'close', '500', 'million', 'year', 'china', 'paying', '39', 'million', 'year', 'china', 'much', 'say', 'worked', 'hard', 'bad', 'thing', 'done', 'past', 'administrations', 'tough', 'saying', '—', 'asking', '—', 'said', '“why', 'paying', 'much', 'china”', 'china', '14', 'billion', 'people', '325', '—', 'probably', '325', 'million', 'approximately', 'nobody', 'give', 'exact', 'count', 'we’re', 'trying', 'get', 'exact', 'count', 'years', 'many', 'illegals', 'come', 'country', 'depends', 'want', 'count', 'could', 'say', '325', '350', 'million', 'people', 'opposed', '14', 'billion', 'people']\n"
          ],
          "name": "stdout"
        }
      ]
    },
    {
      "cell_type": "code",
      "metadata": {
        "id": "Sb__2dFrFPYR",
        "colab_type": "code",
        "colab": {
          "base_uri": "https://localhost:8080/",
          "height": 54
        },
        "outputId": "0908b16d-57bd-4f09-ef42-41a83fb90442"
      },
      "source": [
        "emotion_List =[]\n",
        "with open('emotions.txt', 'r') as file:\n",
        "  for eachLine in file:\n",
        "    clear_space = eachLine.replace(\"\\n\",\"\").replace(\",\",\"\").replace(\"'\",\"\").strip()\n",
        "    word , meaning = clear_space.split(\":\")\n",
        "    \n",
        "    if word in original_List:\n",
        "      emotion_List.append(meaning)\n",
        "\n",
        "\n",
        "count = Counter(emotion_List)     \n",
        "#print(original_List)\n",
        "print(count)\n",
        "print(emotion_List)\n"
      ],
      "execution_count": 37,
      "outputs": [
        {
          "output_type": "stream",
          "text": [
            "Counter({' free': 1, ' lost': 1, ' adequate': 1, ' happy': 1})\n",
            "[' free', ' lost', ' adequate', ' happy']\n"
          ],
          "name": "stdout"
        }
      ]
    },
    {
      "cell_type": "code",
      "metadata": {
        "id": "UhhNxc8xQw15",
        "colab_type": "code",
        "colab": {
          "base_uri": "https://localhost:8080/",
          "height": 268
        },
        "outputId": "2bb06cf0-00b1-4345-c882-279af05abfba"
      },
      "source": [
        "fig, ax1 = plt.subplots()\n",
        "ax1.bar(count.keys(), count.values())\n",
        "fig.autofmt_xdate()\n",
        "plt.savefig('sentiment_graph.png')\n",
        "plt.show()"
      ],
      "execution_count": 38,
      "outputs": [
        {
          "output_type": "display_data",
          "data": {
            "image/png": "[encoded data removed]",
            "text/plain": [
              "<Figure size 432x288 with 1 Axes>"
            ]
          },
          "metadata": {
            "tags": [],
            "needs_background": "light"
          }
        }
      ]
    },
    {
      "cell_type": "code",
      "metadata": {
        "id": "Ev20jGgmNIsQ",
        "colab_type": "code",
        "colab": {}
      },
      "source": [
        ""
      ],
      "execution_count": null,
      "outputs": []
    },
    {
      "cell_type": "markdown",
      "metadata": {
        "id": "YIYdc-3UNJju",
        "colab_type": "text"
      },
      "source": [
        "# Sentiment Analysis With NLP"
      ]
    },
    {
      "cell_type": "code",
      "metadata": {
        "id": "Ohs8pUTEPfWJ",
        "colab_type": "code",
        "colab": {
          "base_uri": "https://localhost:8080/",
          "height": 201
        },
        "outputId": "b4ba5244-e8c1-47ee-efea-8c12957459d5"
      },
      "source": [
        "#!pip install GetOldTweets3\n",
        "!pip install emoji"
      ],
      "execution_count": 1,
      "outputs": [
        {
          "output_type": "stream",
          "text": [
            "Collecting emoji\n",
            "\u001b[?25l  Downloading https://files.pythonhosted.org/packages/40/8d/521be7f0091fe0f2ae690cc044faf43e3445e0ff33c574eae752dd7e39fa/emoji-0.5.4.tar.gz (43kB)\n",
            "\r\u001b[K     |███████▌                        | 10kB 21.8MB/s eta 0:00:01\r\u001b[K     |███████████████                 | 20kB 3.4MB/s eta 0:00:01\r\u001b[K     |██████████████████████▋         | 30kB 4.1MB/s eta 0:00:01\r\u001b[K     |██████████████████████████████▏ | 40kB 4.5MB/s eta 0:00:01\r\u001b[K     |████████████████████████████████| 51kB 2.8MB/s \n",
            "\u001b[?25hBuilding wheels for collected packages: emoji\n",
            "  Building wheel for emoji (setup.py) ... \u001b[?25l\u001b[?25hdone\n",
            "  Created wheel for emoji: filename=emoji-0.5.4-cp36-none-any.whl size=42176 sha256=e52f72486653ce95e4061bcb84f606c23ebe8001e7f7ecacfc216a6342c50cee\n",
            "  Stored in directory: /root/.cache/pip/wheels/2a/a9/0a/4f8e8cce8074232aba240caca3fade315bb49fac68808d1a9c\n",
            "Successfully built emoji\n",
            "Installing collected packages: emoji\n",
            "Successfully installed emoji-0.5.4\n"
          ],
          "name": "stdout"
        }
      ]
    },
    {
      "cell_type": "code",
      "metadata": {
        "id": "Z5X_CmIOcNxJ",
        "colab_type": "code",
        "colab": {
          "base_uri": "https://localhost:8080/",
          "height": 166
        },
        "outputId": "78a75197-bde7-4e5d-e91f-f2bb9371ae8f"
      },
      "source": [
        "\n",
        "\n",
        "#import GetOldTweets3 as got\n",
        "import emoji\n",
        "import nltk \n",
        "nltk.download('stopwords')\n",
        "nltk.download('punkt')\n",
        "nltk.download('vader_lexicon')\n",
        "from collections import Counter\n",
        "from nltk.tokenize import word_tokenize\n",
        "import string\n",
        "import matplotlib.pyplot as plt\n",
        "from nltk.corpus import stopwords\n",
        "from nltk.sentiment.vader import SentimentIntensityAnalyzer"
      ],
      "execution_count": 2,
      "outputs": [
        {
          "output_type": "stream",
          "text": [
            "[nltk_data] Downloading package stopwords to /root/nltk_data...\n",
            "[nltk_data]   Unzipping corpora/stopwords.zip.\n",
            "[nltk_data] Downloading package punkt to /root/nltk_data...\n",
            "[nltk_data]   Unzipping tokenizers/punkt.zip.\n",
            "[nltk_data] Downloading package vader_lexicon to /root/nltk_data...\n"
          ],
          "name": "stdout"
        },
        {
          "output_type": "stream",
          "text": [
            "/usr/local/lib/python3.6/dist-packages/nltk/twitter/__init__.py:20: UserWarning: The twython library has not been installed. Some functionality from the twitter package will not be available.\n",
            "  warnings.warn(\"The twython library has not been installed. \"\n"
          ],
          "name": "stderr"
        }
      ]
    },
    {
      "cell_type": "code",
      "metadata": {
        "id": "jGbRHRodNTLq",
        "colab_type": "code",
        "colab": {
          "base_uri": "https://localhost:8080/",
          "height": 306
        },
        "outputId": "fb23912f-fbc4-4734-c4b4-6b98ad5ad5e3"
      },
      "source": [
        "text = open(\"textFile.txt\",encoding='utf-8').read()\n",
        "LowerCase = text.lower()\n",
        "remove_punctuation = LowerCase.translate(str.maketrans('','',string.punctuation))\n",
        "#print(remove_punctuation)\n",
        "\n",
        "wordsInText = word_tokenize(remove_punctuation,'english')\n",
        "\n",
        "\n",
        "original_List = []\n",
        "for w in wordsInText:\n",
        "  if(w not in stopwords.words('english')):\n",
        "    original_List.append(w)\n",
        "\n",
        "    \n",
        " \n",
        "\n",
        "def sentiment(sentiment_word):\n",
        "  score = SentimentIntensityAnalyzer().polarity_scores(sentiment_word)\n",
        "  print(score)\n",
        "  negative = score['neg']\n",
        "  positive = score['pos']\n",
        "\n",
        " \n",
        "  if negative > positive :\n",
        "    print(\"negative sentiment  \\U0001f61f \")\n",
        "   \n",
        "  elif positive > negative :\n",
        "    print(\"positive sentiment  \\U0001f607\")\n",
        "  else: \n",
        "     print(\"neutral sentiment  \\U0001f642\")     \n",
        "  fig, ax1 = plt.subplots()\n",
        "  ax1.bar(score.keys(), score.values())\n",
        "  fig.autofmt_xdate()\n",
        "  plt.savefig('sentiment_graph.png')\n",
        "  plt.show()\n",
        "\n",
        "sentiment(remove_punctuation)\n",
        "\n",
        "\n"
      ],
      "execution_count": 33,
      "outputs": [
        {
          "output_type": "stream",
          "text": [
            "{'neg': 0.066, 'neu': 0.803, 'pos': 0.131, 'compound': 0.9959}\n",
            "positive sentiment  😇\n"
          ],
          "name": "stdout"
        },
        {
          "output_type": "display_data",
          "data": {
            "image/png": "[encoded data removed]",
            "text/plain": [
              "<Figure size 432x288 with 1 Axes>"
            ]
          },
          "metadata": {
            "tags": [],
            "needs_background": "light"
          }
        }
      ]
    },
    {
      "cell_type": "code",
      "metadata": {
        "id": "3xKeLcAQPErF",
        "colab_type": "code",
        "colab": {
          "base_uri": "https://localhost:8080/",
          "height": 55
        },
        "outputId": "d0eaa834-6bdf-4849-ade3-5b68fb2f4117"
      },
      "source": [
        "'''tweetCriteria = got.manager.TweetCriteria().setQuerySearch('covid 19')\\\n",
        "                                           .setSince(\"2019-10-01\")\\\n",
        "                                           .setUntil(\"2020-06-30\")\\\n",
        "                                           .setMaxTweets(10)\n",
        "tweet = got.manager.TweetManager.getTweets(tweetCriteria)\n",
        "tweetsText = [[t.text] for t in tweet] \n",
        "print(tweetsText)'''"
      ],
      "execution_count": null,
      "outputs": [
        {
          "output_type": "stream",
          "text": [
            "[[\"Today's COVID and Markets Missive and today's Market Outlook National Call with David L. Bahnsen, TBG CIO and Managing Partner #investing #covid19 - \"], ['#Covid_19 Now tell me again why we need to shut down????!!!! '], ['Beyond COVID-19: How hospitals can prepare for a new normal #Kubernetes #IoT #Python #100DaysOfCode #edtech #DataScience #CyberSecurity #BigData #DeepLearning #MachineLearning #ArtificialIntelligence #javascript #blockchain #cdwsocial'], ['Aclaró que ningún funcionario de su gobierno se hizo el test de #covid19 ya que ninguno corre riesgo tras dar negativo. Va a estar aislado durante unos días para evaluar su evolución'], ['Just as the US has its highest daily COVID19 infection rates. Perfect timing. What could go wrong?'], ['From \"Click it or Ticket\" to the new slogan for the COVID-19 pandemic: '], ['Ministro Zamora supervisa inicio de operaciones del hospital temporal covid-19 en Cañete – Agencia Andina https://www.previenecovid19.com/2020/06/29/ministro-zamora-supervisa-inicio-de-operaciones-del-hospital-temporal-covid-19-en-canete-agencia-andina/'], ['More from the \"Not just the flu\" department #Covid_19 '], ['SIS: este martes se suscriben contratos con clínicas para atención covid-19 – Agencia Andina '], ['Alcalde de Bosconia tiene Covid-19 https://portalenlace.com.co/alcalde-de-bosconia-tiene-covid-19/ vía @portalenlace']]\n"
          ],
          "name": "stdout"
        }
      ]
    },
    {
      "cell_type": "code",
      "metadata": {
        "id": "2Jx6ye3cwTW9",
        "colab_type": "code",
        "colab": {}
      },
      "source": [
        ""
      ],
      "execution_count": null,
      "outputs": []
    }
  ]
}